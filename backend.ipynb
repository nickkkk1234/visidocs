{
 "cells": [
  {
   "cell_type": "markdown",
   "metadata": {},
   "source": [
    "```conda create -n <environment-name> --file req.txt```"
   ]
  },
  {
   "cell_type": "code",
   "execution_count": 1,
   "metadata": {},
   "outputs": [
    {
     "name": "stdout",
     "output_type": "stream",
     "text": [
      "Choice(finish_reason='stop', index=0, logprobs=None, message=ChatCompletionMessage(content='The image depicts a serene landscape featuring a wooden pathway winding through a lush green field. The path is surrounded by tall grass, with trees and shrubs visible in the background. The sky above is blue with some clouds, creating a peaceful and natural atmosphere.', role='assistant', function_call=None, tool_calls=None, refusal=None))\n"
     ]
    }
   ],
   "source": [
    "from openai import OpenAI\n",
    "\n",
    "client = OpenAI()\n",
    "\n",
    "response = client.chat.completions.create(\n",
    "  model=\"gpt-4o-mini\",\n",
    "  messages=[\n",
    "    {\n",
    "      \"role\": \"user\",\n",
    "      \"content\": [\n",
    "        {\"type\": \"text\", \"text\": \"What’s in this image?\"},\n",
    "        {\n",
    "          \"type\": \"image_url\",\n",
    "          \"image_url\": {\n",
    "            \"url\": \"https://upload.wikimedia.org/wikipedia/commons/thumb/d/dd/Gfp-wisconsin-madison-the-nature-boardwalk.jpg/2560px-Gfp-wisconsin-madison-the-nature-boardwalk.jpg\",\n",
    "          },\n",
    "        },\n",
    "      ],\n",
    "    }\n",
    "  ],\n",
    "  max_tokens=300,\n",
    ")\n",
    "\n",
    "print(response.choices[0])"
   ]
  },
  {
   "cell_type": "markdown",
   "metadata": {},
   "source": [
    "## JSON Schema\n",
    "\n",
    "On an individual basis, per image frame:\n",
    "\n",
    "{\n",
    "    \"raw_img\": [jpg encodings],\n",
    "    \"tools\": [list of tools used in action],\n",
    "    \"action\": [desc of what is being done in the frame],\n",
    "    \"timestamp\" [ts],\n",
    "}\n",
    "\n",
    "on a project basis, per image frame:\n",
    "\n",
    "{\n",
    "    \"raw img\": [jpg]\n",
    "    \"progression\": [major progress made from prev timestep],\n",
    "    \"step index\": [],\n",
    "    \n",
    "}\n",
    "\n"
   ]
  },
  {
   "cell_type": "code",
   "execution_count": 1,
   "metadata": {},
   "outputs": [
    {
     "name": "stdout",
     "output_type": "stream",
     "text": [
      "Image successfully converted to JSONB format and saved to output.json\n"
     ]
    }
   ],
   "source": [
    "import base64\n",
    "import json\n",
    "\n",
    "def image_to_jsonb(image_path, output_path):\n",
    "    \"\"\"\n",
    "    Converts an image to a JSONB-compatible format and saves it as a JSON file.\n",
    "    \n",
    "    Parameters:\n",
    "        image_path (str): Path to the input image file.\n",
    "        output_path (str): Path to the output JSON file.\n",
    "    \"\"\"\n",
    "    try:\n",
    "        # Read the image file in binary mode\n",
    "        with open(image_path, \"rb\") as image_file:\n",
    "            # Encode the image into a base64 string\n",
    "            encoded_image = base64.b64encode(image_file.read()).decode(\"utf-8\")\n",
    "        \n",
    "        # Create a JSON object to represent the image\n",
    "        image_json = {\n",
    "            \"image_data\": encoded_image,\n",
    "            \"format\": image_path.split('.')[-1]  # File extension as image format\n",
    "        }\n",
    "        \n",
    "        # Save the JSON object to a file\n",
    "        with open(output_path, \"w\") as json_file:\n",
    "            json.dump(image_json, json_file, indent=4)\n",
    "        \n",
    "        print(f\"Image successfully converted to JSONB format and saved to {output_path}\")\n",
    "    except Exception as e:\n",
    "        print(f\"Error converting image to JSONB format: {e}\")\n",
    "\n",
    "# Example usage\n",
    "if __name__ == \"__main__\":\n",
    "    image_path = \"image.jpg\"  # Replace with your image file path\n",
    "    output_path = \"output.json\"  # Replace with desired output JSON file path\n",
    "    image_to_jsonb(image_path, output_path)"
   ]
  }
 ],
 "metadata": {
  "kernelspec": {
   "display_name": "Python 3",
   "language": "python",
   "name": "python3"
  },
  "language_info": {
   "codemirror_mode": {
    "name": "ipython",
    "version": 3
   },
   "file_extension": ".py",
   "mimetype": "text/x-python",
   "name": "python",
   "nbconvert_exporter": "python",
   "pygments_lexer": "ipython3",
   "version": "3.9.6"
  }
 },
 "nbformat": 4,
 "nbformat_minor": 2
}
